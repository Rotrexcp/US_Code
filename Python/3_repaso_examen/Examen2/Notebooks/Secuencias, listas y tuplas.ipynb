{
 "cells": [
  {
   "cell_type": "markdown",
   "metadata": {},
   "source": [
    "# Fundamentos de Programación\n",
    "# Secuencias, listas y tuplas\n",
    "**Autor**: Carlos G. Vallejo, Mariano González, José A. Troyano, Fermín Cruz.   **Revisor**: Fermín Cruz, Beatriz Pontes   **Última modificación:** 24 de octubre de 2023"
   ]
  },
  {
   "cell_type": "markdown",
   "metadata": {},
   "source": [
    "## Índice de contenidos\n",
    "* [1. Secuencias](#sec_secuencias)\n",
    "  * [1.1. Rangos](#sec_rangos)\n",
    "  * [1.2. _Unpacking_](#sec_unpacking)\n",
    "  * [1.3. Operadores sobre secuencias](#sec_operadores_sec)\n",
    "  * [1.4. _Slicing_](#sec_slicing_sec)\n",
    "  * [1.5. Métodos y funciones predefinidas para secuencias](#sec_builtin_sec)\n",
    "* [2. Listas](#sec_listas)\n",
    "  * [2.1. Creación de una lista](#sec_creacion)\n",
    "  * [2.2. Acceso a una lista](#sec_acceso)\n",
    "  * [2.3. Otras operaciones con listas](#sec_otras)\n",
    "* [3. Comprensión de listas](#sec_comprension_listas)\n",
    "  * [3.1. Generadores por comprensión](#sec_generadores)\n",
    "* [4. Tuplas](#sec_tuplas)\n",
    "  *  [4.1. Tuplas con nombre](#sec_namedtuple)"
   ]
  },
  {
   "cell_type": "markdown",
   "metadata": {},
   "source": [
    "## 1. Secuencias <a id=\"sec_secuencias\"/>"
   ]
  },
  {
   "cell_type": "markdown",
   "metadata": {},
   "source": [
    "Las **secuencias** son todos aquellos tipos contenedores cuyos elementos pueden ser recorridos mediante un bucle *for*, y accedidos mediante los corchetes . Es decir, si la variable *sec* es una secuencia, podremos recorrer sus elementos mediante el siguiente código:\n",
    "\n",
    "```python\n",
    "for elemento in sec:\n",
    "   ...\n",
    "```\n",
    ", y acceder a los elementos mediante `sec[i]`, para valores de `i` mayores o iguales a 0.\n",
    "\n",
    "Además de lo anterior, con las secuencias podemos hacer una serie de operaciones, independientemente del tipo de secuencia. En esta sección estudiaremos estas operaciones comunes a todas las secuencias.\n",
    "\n",
    "Entre otros, tenemos los siguientes tipos de secuencias:\n",
    "- Listas: secuencias **mutables**, habitualmente se usan para representar colecciones ordenadas de objetos homogéneos (aunque no hay problema en que una lista contenga objetos de distintos tipos).\n",
    "- Tuplas: secuencias **inmutables**, habitualmente se usan para representar _registros_ de datos heterogéneos (aunque no hay problema en que todos los elementos de una tupla sean del mismo tipo).\n",
    "- Rangos: representación de una secuencia **inmutable** de números que habitualmente se usan como índices al iterar con un bucle <code>for</code>. Un objeto rango no contiene todos los valores de un rango, solo _está preparado para generarlos_ en el momento en el que se le solicitan (se dice que es una secuencia **perezosa**).\n",
    "\n",
    "Las cadenas también son secuencias, por lo que podemos aplicar todas las operaciones que veremos a continuación (aunque en este notebook nos centraremos en los tres tipos de secuencias que acabamos de enumerar).\n",
    "\n",
    "\n",
    "Las **listas** se construyen con corchetes y las **tuplas** con paréntesis:"
   ]
  },
  {
   "cell_type": "code",
   "execution_count": 5,
   "metadata": {
    "collapsed": false
   },
   "outputs": [
    {
     "name": "stdout",
     "output_type": "stream",
     "text": [
      "[1, 2, 3]\n",
      "(1, 2, 3)\n"
     ]
    }
   ],
   "source": [
    "lista = [1, 2, 3]\n",
    "print(lista)\n",
    "tupla = (1, 2, 3)\n",
    "print(tupla)"
   ]
  },
  {
   "cell_type": "markdown",
   "metadata": {},
   "source": [
    "Para acceder a los elementos de una secuencia se utilizan los corchetes, indicando la posición que nos interesa. La posición es un número entre <code>0</code> (la primera posición) y <code>tamaño-1</code> (la última posición). Si intentamos acceder a una posición no existente provocaremos un error, como en la última instrucción de la siguiente celda:"
   ]
  },
  {
   "cell_type": "code",
   "execution_count": 6,
   "metadata": {
    "collapsed": false
   },
   "outputs": [
    {
     "name": "stdout",
     "output_type": "stream",
     "text": [
      "1 3\n",
      "2 3\n"
     ]
    },
    {
     "ename": "IndexError",
     "evalue": "list index out of range",
     "output_type": "error",
     "traceback": [
      "\u001b[1;31m---------------------------------------------------------------------------\u001b[0m",
      "\u001b[1;31mIndexError\u001b[0m                                Traceback (most recent call last)",
      "Cell \u001b[1;32mIn[6], line 5\u001b[0m\n\u001b[0;32m      2\u001b[0m \u001b[38;5;28mprint\u001b[39m(tupla[\u001b[38;5;241m1\u001b[39m], tupla[\u001b[38;5;241m2\u001b[39m])\n\u001b[0;32m      4\u001b[0m \u001b[38;5;66;03m# ERROR: el índice 3 no existe en la variable 'lista' (el máximo es 3)\u001b[39;00m\n\u001b[1;32m----> 5\u001b[0m \u001b[38;5;28mprint\u001b[39m(\u001b[43mlista\u001b[49m\u001b[43m[\u001b[49m\u001b[38;5;241;43m3\u001b[39;49m\u001b[43m]\u001b[49m)\n",
      "\u001b[1;31mIndexError\u001b[0m: list index out of range"
     ]
    }
   ],
   "source": [
    "print(lista[0], lista[2])\n",
    "print(tupla[1], tupla[2])\n",
    "\n",
    "# ERROR: el índice 3 no existe en la variable 'lista' (el máximo es 3)\n",
    "print(lista[3])"
   ]
  },
  {
   "cell_type": "markdown",
   "metadata": {},
   "source": [
    "Los índices negativos permiten acceder a una secuencia desde el final. El índice <code>-1</code> accede a la última posición de una secuencia, el <code>-2</code> a la penúltima, y así sucesivamente. Los índices negativos se pueden usar en cualquier tipo de secuencia:"
   ]
  },
  {
   "cell_type": "code",
   "execution_count": null,
   "metadata": {
    "collapsed": false
   },
   "outputs": [],
   "source": [
    "print(lista[-1])\n",
    "print((2, 4, 6, 8)[-1])"
   ]
  },
  {
   "cell_type": "markdown",
   "metadata": {},
   "source": [
    "### 1.1. Rangos  <a id=\"sec_rangos\"/>"
   ]
  },
  {
   "cell_type": "markdown",
   "metadata": {},
   "source": [
    "Los **rangos** se construyen con la función _built-in_ <code>range</code>. Si intentamos imprimir un objeto <code>range</code> solo obtendremos la información sobre sus límites. Para visualizar todos los elementos podemos debemos forzar la conversión a un objeto, por ejemplo, de tipo lista, antes de imprimirlo, o bien podríamos recorrer sus elementos en un bucle ``for``:"
   ]
  },
  {
   "cell_type": "code",
   "execution_count": null,
   "metadata": {
    "collapsed": false
   },
   "outputs": [],
   "source": [
    "print(\"Objeto de tipo rango:\", range(10))\n",
    "print(\"Lista obtenida a partir del rango anterior:\", list(range(10)))\n",
    "\n",
    "print(\"Valores obtenidos al recorrer el rango anterior:\", end=\" \")\n",
    "for x in range(10):\n",
    "    print(x, end=\" \")"
   ]
  },
  {
   "cell_type": "markdown",
   "metadata": {},
   "source": [
    "Podemos especificar rangos de varias formas:\n",
    "- Indicando solo un límite superior: se genera un rango desde <code>0</code> hasta ese límite **menos uno**.\n",
    "- Indicando el límite inferior y el límite superior del rango: se genera un rango desde el límite inferior (incluido) hasta el límite superior (**excluido**).\n",
    "- Indicando ambos límites y un _paso_, que determina el incremento de un elemento del rango al siguiente.\n",
    "- Indicando un paso negativo, en ese caso el límite izquierdo debe ser mayor que el derecho.\n"
   ]
  },
  {
   "cell_type": "code",
   "execution_count": null,
   "metadata": {
    "collapsed": false
   },
   "outputs": [],
   "source": [
    "print(list(range(10)))\n",
    "print(list(range(10, 20)))\n",
    "print(list(range(10, 20, 2)))\n",
    "print(list(range(20, 10, -1)))"
   ]
  },
  {
   "cell_type": "markdown",
   "metadata": {},
   "source": [
    "### 1.2. _Unpacking_ <a id=\"sec_unpacking\"/>"
   ]
  },
  {
   "cell_type": "markdown",
   "metadata": {},
   "source": [
    "Se denomina **unpacking** al proceso de extraer valores desde una secuencia y guardarlos en variables independientes. Esto se consigue mediante una asignación en la que en la parte izquierda hay varias variables receptoras. \n",
    "\n",
    "Podemos aplicar **unpacking** desde cualquier secuencia: listas, tuplas y rangos. El número de elementos de la colección debe coincidir con el número de variables receptoras. Si eso no ocurre provocaremos un error, como en la última instrucción de la siguiente celda:"
   ]
  },
  {
   "cell_type": "code",
   "execution_count": null,
   "metadata": {
    "collapsed": false
   },
   "outputs": [],
   "source": [
    "a, b, c = [1, 2, 3]\n",
    "print(a, b, c)\n",
    "a, b, c = (4, 5, 6)\n",
    "print(a, b, c)\n",
    "a, b, c = range(7, 10)\n",
    "print(a, b, c)\n",
    "\n",
    "# ERROR: más elementos que variables receptoras\n",
    "a, b, c = [1, 2, 3, 4]"
   ]
  },
  {
   "cell_type": "markdown",
   "metadata": {},
   "source": [
    "El *unpacking* se utiliza habitualmente en dos situaciones. La primera, para recoger los valores devueltos por una función, cuando la función devuelve una tupla. De esta forma podemos utilizar una variable independiente para cada uno de los valores devueltos por la función:\n",
    "```python\n",
    "def busca_alumno_mejor_calificacion(alumnos):\n",
    "    '''Devuelve el nombre del alumno con mejor nota, y dicha nota'''\n",
    "    # ...\n",
    "    # (se omite el código de la función)\n",
    "    # ...\n",
    "    # Finalmente, se devuelve el nombre y la nota encontrados:\n",
    "    return nombre, nota\n",
    "    \n",
    "# Llamamos a la función anterior, y guardamos el resultado en \n",
    "# dos variables, aprovechando el unpacking:\n",
    "alumno, calificacion = busca_alumno_mejor_calificacion(alumnos)\n",
    "```\n",
    "\n",
    "Observa que la función devuelve una tupla, por lo que, tras la ejecución de la función, se ejecutará la siguiente asignación, similar a las mostradas anteriormente:\n",
    "```python\n",
    "alumno, calificacion = (\"Miguelito Gutiérrez\", 9.5) # Suponiendo que la función haya devuelto estos valores\n",
    "```\n",
    "\n",
    "---\n",
    "\n",
    "El *unpacking* también se utiliza para recorrer los elementos de una secuencia, cuando dichos elementos son a su vez secuencias (generalmente, tuplas). Observa el siguiente ejemplo de código:\n",
    "```python\n",
    "# La lista alumnos_con_notas es de la forma [(alumno1, nota1), (alumno2,nota2), ...]\n",
    "for alumno, calificacion in alumnos_con_notas:\n",
    "   ...\n",
    "```\n",
    "\n",
    "En cada iteración del bucle, la instrucción ``for`` hará una asignación entre las variables ``alumno, calificación`` y uno de los elementos de la lista. Por ejemplo, en la primera vuelta:\n",
    "\n",
    "```python\n",
    "alumnos, calificacion = (alumno1, nota1)\n",
    "```"
   ]
  },
  {
   "cell_type": "markdown",
   "metadata": {},
   "source": [
    "### 1.3. Operadores sobre secuencias<a id=\"sec_operadores_sec\"/>"
   ]
  },
  {
   "cell_type": "markdown",
   "metadata": {},
   "source": [
    "En esta sección veremos una serie de operadores comunes a los tres tipos de secuencias. Por tanto pueden ser utilizadas con listas, tuplas, cadenas o rangos. \n",
    "\n",
    "En muchas de las celdas con las que ilustraremos estos operadores usaremos como base las siguientes listas:"
   ]
  },
  {
   "cell_type": "code",
   "execution_count": 12,
   "metadata": {
    "collapsed": true
   },
   "outputs": [],
   "source": [
    "estados = [\"nublado\", \"nublado\", \"soleado\", \"soleado\", (\"soleado\",\"ventoso\"), \"nublado\", (\"lluvioso\", \"ventoso\")]\n",
    "temperaturas = [23, 23, 28, 29, 25, 24, 20]"
   ]
  },
  {
   "cell_type": "markdown",
   "metadata": {},
   "source": [
    "El operador <code>in</code> evalua si un determinado elemento _pertenece_ a una colección. Sería el equivalente al operador matemático $\\in$. He aquí algunos ejemplos: "
   ]
  },
  {
   "cell_type": "code",
   "execution_count": null,
   "metadata": {
    "collapsed": false
   },
   "outputs": [],
   "source": [
    "# Sobre listas\n",
    "print(\"nublado\" in estados)\n",
    "print((\"lluvioso\", \"ventoso\") in estados)\n",
    "print((\"nublado\", \"ventoso\") in estados)\n",
    "\n",
    "# Sobre tuplas\n",
    "print(1 in (2, 1, 5))\n",
    "\n",
    "# Sobre rangos\n",
    "print(1 in range(10))"
   ]
  },
  {
   "cell_type": "markdown",
   "metadata": {},
   "source": [
    "El operador <code>not in</code> determina si un determinado elemento _no pertenece_ a una colección. Sería el equivalente al operador matemático $\\not\\in$. He aquí algunos ejemplos: "
   ]
  },
  {
   "cell_type": "code",
   "execution_count": null,
   "metadata": {
    "collapsed": false
   },
   "outputs": [],
   "source": [
    "print((\"nublado\", \"ventoso\") not in estados)\n",
    "print(1 not in range(10, 20))\n",
    "print(1 not in (2, 3, 1))"
   ]
  },
  {
   "cell_type": "markdown",
   "metadata": {},
   "source": [
    "Los operadores aritméticos <code>+</code> y <code>*</code> están definidos para listas, tuplas y cadenas (no para rangos). El significado de cada uno de ellos es el siguiente:\n",
    "- El operador <code>+</code>, entre dos secuencias, concatena dos secuencias. No se pueden concatenar secuencias de tipos distintos (por ejemplo, listas con tuplas o con cadenas).\n",
    "- El operador <code>*</code>, entre una secuencia y un número, replica la secuencia tantas veces como indique el número."
   ]
  },
  {
   "cell_type": "code",
   "execution_count": null,
   "metadata": {
    "collapsed": false
   },
   "outputs": [],
   "source": [
    "# Sobre listas\n",
    "print(temperaturas + [22])\n",
    "print(temperaturas * 2)\n",
    "\n",
    "# Sobre tuplas\n",
    "print((1, 2) + (3, 4))\n",
    "print((1, 2) * 2)"
   ]
  },
  {
   "cell_type": "markdown",
   "metadata": {},
   "source": [
    "La prioridad de los operadores es similar a la de los operadores aritméticos. De mayor a menor prioridad, este es el orden en el que se aplican los operadores de manejo de secuencias:\n",
    "- Operador <code>*</code>\n",
    "- Operador <code>+</code>\n",
    "- Operadores <code>in</code>, <code>not in</code>"
   ]
  },
  {
   "cell_type": "code",
   "execution_count": null,
   "metadata": {
    "collapsed": false
   },
   "outputs": [],
   "source": [
    "print([1] + [2] * 3)\n",
    "print(1 in [2] + [1])"
   ]
  },
  {
   "cell_type": "markdown",
   "metadata": {},
   "source": [
    "Los operadores anteriores se pueden utilizar con cadenas:"
   ]
  },
  {
   "cell_type": "code",
   "execution_count": 1,
   "metadata": {},
   "outputs": [
    {
     "name": "stdout",
     "output_type": "stream",
     "text": [
      "True\n",
      "innato\n",
      "jajaja\n"
     ]
    }
   ],
   "source": [
    "print(\"h\" in \"Almohada\")\n",
    "print(\"in\" + \"nato\")\n",
    "print(\"ja\"*3)"
   ]
  },
  {
   "cell_type": "markdown",
   "metadata": {},
   "source": [
    "### ¡Prueba tú!"
   ]
  },
  {
   "cell_type": "code",
   "execution_count": 23,
   "metadata": {
    "collapsed": true
   },
   "outputs": [
    {
     "name": "stdout",
     "output_type": "stream",
     "text": [
      "[(1, 'lunes'), (2, 'martes'), (3, 'miercoles'), (4, 'jueves'), (5, 'viernes'), (6, 'sábado'), (7, 'domingo'), (8, 'lunes'), (9, 'martes'), (10, 'miercoles'), (11, 'jueves'), (12, 'viernes'), (13, 'sábado'), (14, 'domingo'), (15, 'lunes'), (16, 'martes'), (17, 'miercoles'), (18, 'jueves'), (19, 'viernes'), (20, 'sábado'), (21, 'domingo'), (22, 'lunes'), (23, 'martes'), (24, 'miercoles'), (25, 'jueves'), (26, 'viernes'), (27, 'sábado'), (28, 'domingo'), (29, 'lunes'), (30, 'martes'), (31, 'miercoles'), (32, 'jueves'), (33, 'viernes'), (34, 'sábado'), (35, 'domingo'), (36, 'lunes'), (37, 'martes'), (38, 'miercoles'), (39, 'jueves'), (40, 'viernes'), (41, 'sábado'), (42, 'domingo'), (43, 'lunes'), (44, 'martes'), (45, 'miercoles'), (46, 'jueves'), (47, 'viernes'), (48, 'sábado'), (49, 'domingo'), (50, 'lunes'), (51, 'martes'), (52, 'miercoles'), (53, 'jueves'), (54, 'viernes'), (55, 'sábado'), (56, 'domingo'), (57, 'lunes'), (58, 'martes'), (59, 'miercoles'), (60, 'jueves'), (61, 'viernes'), (62, 'sábado'), (63, 'domingo'), (64, 'lunes'), (65, 'martes'), (66, 'miercoles'), (67, 'jueves'), (68, 'viernes'), (69, 'sábado'), (70, 'domingo'), (71, 'lunes'), (72, 'martes'), (73, 'miercoles'), (74, 'jueves'), (75, 'viernes'), (76, 'sábado'), (77, 'domingo'), (78, 'lunes'), (79, 'martes'), (80, 'miercoles'), (81, 'jueves'), (82, 'viernes'), (83, 'sábado'), (84, 'domingo'), (85, 'lunes'), (86, 'martes'), (87, 'miercoles'), (88, 'jueves'), (89, 'viernes'), (90, 'sábado'), (91, 'domingo'), (92, 'lunes'), (93, 'martes'), (94, 'miercoles'), (95, 'jueves'), (96, 'viernes'), (97, 'sábado'), (98, 'domingo'), (99, 'lunes'), (100, 'martes'), (101, 'miercoles'), (102, 'jueves'), (103, 'viernes'), (104, 'sábado'), (105, 'domingo'), (106, 'lunes'), (107, 'martes'), (108, 'miercoles'), (109, 'jueves'), (110, 'viernes'), (111, 'sábado'), (112, 'domingo'), (113, 'lunes'), (114, 'martes'), (115, 'miercoles'), (116, 'jueves'), (117, 'viernes'), (118, 'sábado'), (119, 'domingo'), (120, 'lunes'), (121, 'martes'), (122, 'miercoles'), (123, 'jueves'), (124, 'viernes'), (125, 'sábado'), (126, 'domingo'), (127, 'lunes'), (128, 'martes'), (129, 'miercoles'), (130, 'jueves'), (131, 'viernes'), (132, 'sábado'), (133, 'domingo'), (134, 'lunes'), (135, 'martes'), (136, 'miercoles'), (137, 'jueves'), (138, 'viernes'), (139, 'sábado'), (140, 'domingo'), (141, 'lunes'), (142, 'martes'), (143, 'miercoles'), (144, 'jueves'), (145, 'viernes'), (146, 'sábado'), (147, 'domingo'), (148, 'lunes'), (149, 'martes'), (150, 'miercoles'), (151, 'jueves'), (152, 'viernes'), (153, 'sábado'), (154, 'domingo'), (155, 'lunes'), (156, 'martes'), (157, 'miercoles'), (158, 'jueves'), (159, 'viernes'), (160, 'sábado'), (161, 'domingo'), (162, 'lunes'), (163, 'martes'), (164, 'miercoles'), (165, 'jueves'), (166, 'viernes'), (167, 'sábado'), (168, 'domingo'), (169, 'lunes'), (170, 'martes'), (171, 'miercoles'), (172, 'jueves'), (173, 'viernes'), (174, 'sábado'), (175, 'domingo'), (176, 'lunes'), (177, 'martes'), (178, 'miercoles'), (179, 'jueves'), (180, 'viernes'), (181, 'sábado'), (182, 'domingo'), (183, 'lunes'), (184, 'martes'), (185, 'miercoles'), (186, 'jueves'), (187, 'viernes'), (188, 'sábado'), (189, 'domingo'), (190, 'lunes'), (191, 'martes'), (192, 'miercoles'), (193, 'jueves'), (194, 'viernes'), (195, 'sábado'), (196, 'domingo'), (197, 'lunes'), (198, 'martes'), (199, 'miercoles'), (200, 'jueves'), (201, 'viernes'), (202, 'sábado'), (203, 'domingo'), (204, 'lunes'), (205, 'martes'), (206, 'miercoles'), (207, 'jueves'), (208, 'viernes'), (209, 'sábado'), (210, 'domingo'), (211, 'lunes'), (212, 'martes'), (213, 'miercoles'), (214, 'jueves'), (215, 'viernes'), (216, 'sábado'), (217, 'domingo'), (218, 'lunes'), (219, 'martes'), (220, 'miercoles'), (221, 'jueves'), (222, 'viernes'), (223, 'sábado'), (224, 'domingo'), (225, 'lunes'), (226, 'martes'), (227, 'miercoles'), (228, 'jueves'), (229, 'viernes'), (230, 'sábado'), (231, 'domingo'), (232, 'lunes'), (233, 'martes'), (234, 'miercoles'), (235, 'jueves'), (236, 'viernes'), (237, 'sábado'), (238, 'domingo'), (239, 'lunes'), (240, 'martes'), (241, 'miercoles'), (242, 'jueves'), (243, 'viernes'), (244, 'sábado'), (245, 'domingo'), (246, 'lunes'), (247, 'martes'), (248, 'miercoles'), (249, 'jueves'), (250, 'viernes'), (251, 'sábado'), (252, 'domingo'), (253, 'lunes'), (254, 'martes'), (255, 'miercoles'), (256, 'jueves'), (257, 'viernes'), (258, 'sábado'), (259, 'domingo'), (260, 'lunes'), (261, 'martes'), (262, 'miercoles'), (263, 'jueves'), (264, 'viernes'), (265, 'sábado'), (266, 'domingo'), (267, 'lunes'), (268, 'martes'), (269, 'miercoles'), (270, 'jueves'), (271, 'viernes'), (272, 'sábado'), (273, 'domingo'), (274, 'lunes'), (275, 'martes'), (276, 'miercoles'), (277, 'jueves'), (278, 'viernes'), (279, 'sábado'), (280, 'domingo'), (281, 'lunes'), (282, 'martes'), (283, 'miercoles'), (284, 'jueves'), (285, 'viernes'), (286, 'sábado'), (287, 'domingo'), (288, 'lunes'), (289, 'martes'), (290, 'miercoles'), (291, 'jueves'), (292, 'viernes'), (293, 'sábado'), (294, 'domingo'), (295, 'lunes'), (296, 'martes'), (297, 'miercoles'), (298, 'jueves'), (299, 'viernes'), (300, 'sábado'), (301, 'domingo'), (302, 'lunes'), (303, 'martes'), (304, 'miercoles'), (305, 'jueves'), (306, 'viernes'), (307, 'sábado'), (308, 'domingo'), (309, 'lunes'), (310, 'martes'), (311, 'miercoles'), (312, 'jueves'), (313, 'viernes'), (314, 'sábado'), (315, 'domingo'), (316, 'lunes'), (317, 'martes'), (318, 'miercoles'), (319, 'jueves'), (320, 'viernes'), (321, 'sábado'), (322, 'domingo'), (323, 'lunes'), (324, 'martes'), (325, 'miercoles'), (326, 'jueves'), (327, 'viernes'), (328, 'sábado'), (329, 'domingo'), (330, 'lunes'), (331, 'martes'), (332, 'miercoles'), (333, 'jueves'), (334, 'viernes'), (335, 'sábado'), (336, 'domingo'), (337, 'lunes'), (338, 'martes'), (339, 'miercoles'), (340, 'jueves'), (341, 'viernes'), (342, 'sábado'), (343, 'domingo'), (344, 'lunes'), (345, 'martes'), (346, 'miercoles'), (347, 'jueves'), (348, 'viernes'), (349, 'sábado'), (350, 'domingo'), (351, 'lunes'), (352, 'martes'), (353, 'miercoles'), (354, 'jueves'), (355, 'viernes'), (356, 'sábado'), (357, 'domingo'), (358, 'lunes'), (359, 'martes'), (360, 'miercoles'), (361, 'jueves'), (362, 'viernes'), (363, 'sábado'), (364, 'domingo'), (365, 'lunes')]\n"
     ]
    }
   ],
   "source": [
    "# Crea una lista, llamada \"nombres\", con los nombres de los días de la semana\n",
    "nombres = [\"lunes\", \"martes\", \"miercoles\", \"jueves\", \"viernes\", \"sábado\", \"domingo\"]\n",
    "# Crea una lista de tuplas (orden, nombre del día), llamada \"dias_nombres\", para todos los días del año 2018\n",
    "# Las primeras tuplas serían [(1, \"lunes\"), (2, \"martes\"), ...]\n",
    "dias_nombres = [(orden + 1, nombres[orden % 7]) for orden in range(365)]\n",
    "print(dias_nombres)"
   ]
  },
  {
   "cell_type": "markdown",
   "metadata": {},
   "source": [
    "### 1.4. _Slicing_ <a id=\"sec_slicing_sec\"/>"
   ]
  },
  {
   "cell_type": "markdown",
   "metadata": {},
   "source": [
    "El **slicing** nos permite seleccionar un fragmento de una secuencia. Se usa para ello el operador <code>:</code> dentro de los corchetes, que nos permite especificar un rango de acceso a los elementos de la secuencia. Como en los rangos,se  incluye el límite inferior, pero se excluye el límite superior. Se puede aplicar _slicing_ sobre listas, tuplas, cadenas y rangos:"
   ]
  },
  {
   "cell_type": "code",
   "execution_count": 19,
   "metadata": {
    "collapsed": false
   },
   "outputs": [
    {
     "name": "stdout",
     "output_type": "stream",
     "text": [
      "[23, 28]\n",
      "(4, 6)\n",
      "range(13, 16)\n",
      "[13, 14, 15]\n",
      "María\n"
     ]
    }
   ],
   "source": [
    "# Sobre listas\n",
    "print(temperaturas[1:3])\n",
    "\n",
    "# Sobre tuplas\n",
    "print((2, 4, 6, 8, 9)[1:3])\n",
    "\n",
    "# Sobre rangos\n",
    "print(range(10,20)[3:6])\n",
    "print(list(range(10,20)[3:6]))\n",
    "\n",
    "# Sobre cadenas\n",
    "print(\"María Gómez\"[0:5])"
   ]
  },
  {
   "cell_type": "markdown",
   "metadata": {},
   "source": [
    "No es obligatorio definir ambos límites al especificar un _slicing_. Si no se especifica el límite inferior, se seleccionan los elementos de la secuencia desde el principio. Si no se especifica el límite superior, se seleccionan los elementos de la secuencia hasta el final:"
   ]
  },
  {
   "cell_type": "code",
   "execution_count": null,
   "metadata": {
    "collapsed": false
   },
   "outputs": [],
   "source": [
    "print(temperaturas[:2])\n",
    "print(temperaturas[4:])\n",
    "print(temperaturas[:])"
   ]
  },
  {
   "cell_type": "markdown",
   "metadata": {},
   "source": [
    "Se puede hacer _slicing_ tanto con índices positivos como con índices negativos:"
   ]
  },
  {
   "cell_type": "code",
   "execution_count": 15,
   "metadata": {
    "collapsed": false
   },
   "outputs": [
    {
     "name": "stdout",
     "output_type": "stream",
     "text": [
      "[23, 23, 28, 29, 25, 24, 20]\n"
     ]
    }
   ],
   "source": [
    "print(temperaturas[-7:]) # Los tres últimos elementos"
   ]
  },
  {
   "cell_type": "markdown",
   "metadata": {},
   "source": [
    "Al igual que ocurría en la definición de rangos, a la hora de especificar un _slicing_ se pueden indicar los límites junto con un _paso_. De esta forma, gracias al _paso_, se puede hacer una selección no continua de los elementos de la colección:  "
   ]
  },
  {
   "cell_type": "code",
   "execution_count": 13,
   "metadata": {
    "collapsed": false
   },
   "outputs": [
    {
     "name": "stdout",
     "output_type": "stream",
     "text": [
      "[23, 28, 25, 20]\n"
     ]
    }
   ],
   "source": [
    "print(temperaturas[0:7:2])"
   ]
  },
  {
   "cell_type": "markdown",
   "metadata": {},
   "source": [
    "### ¡Prueba tú!"
   ]
  },
  {
   "cell_type": "code",
   "execution_count": 35,
   "metadata": {
    "collapsed": true
   },
   "outputs": [
    {
     "name": "stdout",
     "output_type": "stream",
     "text": [
      "[(1, 'lunes'), (2, 'martes'), (3, 'miercoles'), (4, 'jueves'), (5, 'viernes'), (6, 'sábado'), (7, 'domingo'), (8, 'lunes'), (9, 'martes'), (10, 'miercoles'), (11, 'jueves')]\n",
      "[(355, 'viernes'), (356, 'sábado'), (357, 'domingo'), (358, 'lunes'), (359, 'martes'), (360, 'miercoles'), (361, 'jueves'), (362, 'viernes'), (363, 'sábado'), (364, 'domingo'), (365, 'lunes')]\n",
      "[(7, 'domingo'), (14, 'domingo'), (21, 'domingo'), (28, 'domingo'), (35, 'domingo'), (42, 'domingo'), (49, 'domingo'), (56, 'domingo'), (63, 'domingo'), (70, 'domingo'), (77, 'domingo'), (84, 'domingo'), (91, 'domingo'), (98, 'domingo'), (105, 'domingo'), (112, 'domingo'), (119, 'domingo'), (126, 'domingo'), (133, 'domingo'), (140, 'domingo'), (147, 'domingo'), (154, 'domingo'), (161, 'domingo'), (168, 'domingo'), (175, 'domingo'), (182, 'domingo'), (189, 'domingo'), (196, 'domingo'), (203, 'domingo'), (210, 'domingo'), (217, 'domingo'), (224, 'domingo'), (231, 'domingo'), (238, 'domingo'), (245, 'domingo'), (252, 'domingo'), (259, 'domingo'), (266, 'domingo'), (273, 'domingo'), (280, 'domingo'), (287, 'domingo'), (294, 'domingo'), (301, 'domingo'), (308, 'domingo'), (315, 'domingo'), (322, 'domingo'), (329, 'domingo'), (336, 'domingo'), (343, 'domingo'), (350, 'domingo'), (357, 'domingo'), (364, 'domingo')]\n"
     ]
    }
   ],
   "source": [
    "# Obtén mediante slicing las tuplas (orden, nombre del día) de los primeros 10 días de la lista 'dias_nombres'\n",
    "print(dias_nombres[:11])\n",
    "# Obtén mediante slicing las tuplas (orden, nombre del día) de los últimos 10 días de la lista 'dias_nombres'\n",
    "print(dias_nombres[-11:])\n",
    "# Obtén mediante slicing las tuplas (orden, nombre del día) de todos los domingos de la lista 'dias_nombres'\n",
    "print(dias_nombres[6::7])"
   ]
  },
  {
   "cell_type": "markdown",
   "metadata": {},
   "source": [
    "### 1.5. Métodos y funciones predefinidas  para secuencias <a id=\"sec_builtin_sec\"/>"
   ]
  },
  {
   "cell_type": "markdown",
   "metadata": {},
   "source": [
    "En esta sección veremos algunas funciones predefinidas aplicables a cualquier secuencia, y también algunos métodos que se pueden ejecutar para cualquier secuencia, ya sean mutables o inmutables. \n",
    "\n",
    "La primera de estas funciones es **len** que calcula el tamaño de una secuencia: "
   ]
  },
  {
   "cell_type": "code",
   "execution_count": 36,
   "metadata": {
    "collapsed": false
   },
   "outputs": [
    {
     "name": "stdout",
     "output_type": "stream",
     "text": [
      "7\n",
      "3\n",
      "10\n"
     ]
    }
   ],
   "source": [
    "temperaturas = [23, 23, 28, 29, 25, 24, 20]\n",
    "\n",
    "print(len(temperaturas))\n",
    "print(len((2, 4, \"seis\")))\n",
    "print(len(range(10, 20)))"
   ]
  },
  {
   "cell_type": "markdown",
   "metadata": {},
   "source": [
    "La función **sum** devuelve la suma de todos los elementos de una secuencia. La aplicaremos sólo para secuencias de números:"
   ]
  },
  {
   "cell_type": "code",
   "execution_count": 37,
   "metadata": {
    "collapsed": false
   },
   "outputs": [
    {
     "name": "stdout",
     "output_type": "stream",
     "text": [
      "172\n"
     ]
    }
   ],
   "source": [
    "print(sum(temperaturas))"
   ]
  },
  {
   "cell_type": "markdown",
   "metadata": {},
   "source": [
    "---\n",
    "Las funciones **max** y **min** calculan, respectivamente, el máximo y el mínimo de una secuencia. Estas funciones se pueden aplicar sobre cualquier secuencia siempre que sean homogéneas (todos los elementos sean del mismo tipo) y exista una función de comparación para los elementos. Por ejemplo, los números (<code>int</code> y <code>float</code>) y las cadenas (<code>str</code>) sí tienen esas funciones de comparación. Si los elementos de la secuencia son a su vez secuencias (por ejemplo, es habitual que los elementos de una lista sean tuplas), entonces los elementos se comparan utilizando el primer elemento de las tuplas."
   ]
  },
  {
   "cell_type": "code",
   "execution_count": 40,
   "metadata": {
    "collapsed": false
   },
   "outputs": [
    {
     "name": "stdout",
     "output_type": "stream",
     "text": [
      "20\n",
      "29\n",
      "verde\n",
      "10\n",
      "(7, 5)\n"
     ]
    }
   ],
   "source": [
    "# Sobre listas\n",
    "print(min(temperaturas))\n",
    "print(max(temperaturas))\n",
    "\n",
    "# Sobre tuplas\n",
    "print(max((\"rojo\", \"verde\", \"azul\")))\n",
    "\n",
    "# Sobre rangos\n",
    "print(min(range(10, 20)))\n",
    "\n",
    "# Sobre listas de tuplas\n",
    "lista_tuplas = [(1,20), (2,30), (7,5)]\n",
    "print(max(lista_tuplas))\n",
    "\n",
    "# ERROR: no se puede encontrar el máximo en una secuencia con tipos heterogéneos\n",
    "#print(max((\"rojo\", \"verde\", 1)))\n"
   ]
  },
  {
   "cell_type": "markdown",
   "metadata": {},
   "source": [
    "La función predefinida **reversed** calcula la inversa de una secuencia. No crea una secuencia, sino un iterador; esto significa que podemos recorrer los elementos, pero no acceder a posiciones arbitrarias mediante los corchetes. Si queremos _materializar_ la secuencia podemos hacerlo, por ejemplo, con la función <code>list</code>:"
   ]
  },
  {
   "cell_type": "code",
   "execution_count": 41,
   "metadata": {
    "collapsed": false
   },
   "outputs": [
    {
     "name": "stdout",
     "output_type": "stream",
     "text": [
      "<list_reverseiterator object at 0x0000017DCD532170>\n",
      "[20, 24, 25, 29, 28, 23, 23]\n",
      "<reversed object at 0x0000017DCD532170>\n",
      "[3, 2, 1]\n",
      "<range_iterator object at 0x0000017DCD41EBB0>\n",
      "[19, 18, 17, 16, 15, 14, 13, 12, 11, 10]\n"
     ]
    }
   ],
   "source": [
    "# Sobre listas\n",
    "print(reversed(temperaturas))\n",
    "print(list(reversed(temperaturas)))\n",
    "\n",
    "# Sobre tuplas\n",
    "print(reversed((1, 2, 3)))\n",
    "print(list(reversed((1, 2, 3))))\n",
    "\n",
    "# Sobre rangos\n",
    "print(reversed(range(10, 20)))\n",
    "print(list(reversed(range(10, 20))))"
   ]
  },
  {
   "cell_type": "markdown",
   "metadata": {},
   "source": [
    "---\n",
    "La función predefinida **sorted** crea una lista ordenada a partir de una secuencia. Se puede aplicar a cualquier secuencia (listas, tuplas o rangos) pero siempre produce una lista como salida. El parámetro <code>reverse</code> nos permite indicar si queremos aplicar un orden ascendente o descendente:"
   ]
  },
  {
   "cell_type": "code",
   "execution_count": 45,
   "metadata": {
    "collapsed": false
   },
   "outputs": [
    {
     "name": "stdout",
     "output_type": "stream",
     "text": [
      "[20, 23, 23, 24, 25, 28, 29]\n",
      "[29, 28, 25, 24, 23, 23, 20]\n",
      "[1, 2, 3]\n",
      "[11, 12, 13, 14, 15, 16, 17, 18, 19, 20]\n"
     ]
    }
   ],
   "source": [
    "# Sobre listas\n",
    "print(sorted(temperaturas))\n",
    "print(sorted(temperaturas, reverse=True))\n",
    "\n",
    "# Sobre tuplas\n",
    "print(sorted((3, 1, 2)))\n",
    "\n",
    "# Sobre rangos\n",
    "print(sorted(range(20, 10, -1)))"
   ]
  },
  {
   "cell_type": "markdown",
   "metadata": {},
   "source": [
    "Otro parámetro interesante de la función <code>sorted</code> es <code>key</code>. A través de ese parámetro podemos indicar el uso de una función de comparación específica. Por ejemplo, podemos indicarle que utilice la función predefinida <code>len</code>, de manera que primero se pasará cada elemento por dicha función y se ordenará la lista según los valores devueltos por esa función:"
   ]
  },
  {
   "cell_type": "code",
   "execution_count": 46,
   "metadata": {
    "collapsed": false
   },
   "outputs": [
    {
     "name": "stdout",
     "output_type": "stream",
     "text": [
      "['lunes', 'martes', 'jueves', 'sábado', 'viernes', 'domingo', 'miércoles']\n"
     ]
    }
   ],
   "source": [
    "# Ordena la lista de menor a mayor tamaño de las cadenas de texto\n",
    "dias = [\"lunes\", \"martes\", \"miércoles\", \"jueves\", \"viernes\", \"sábado\", \"domingo\"]\n",
    "print(sorted(dias, key=len))"
   ]
  },
  {
   "cell_type": "markdown",
   "metadata": {},
   "source": [
    "Un caso típico de aplicación del parámetro <code>key</code> es la ordenación de una lista de tuplas. El criterio de ordenación _por defecto_ de una lista de tuplas se basa en comparar los primeros componentes de las tuplas. En el siguiente ejemplo, se construye una función _lambda_ que permite ordenar las tuplas en función del segundo componente de las mismas:"
   ]
  },
  {
   "cell_type": "code",
   "execution_count": 47,
   "metadata": {
    "collapsed": false
   },
   "outputs": [
    {
     "name": "stdout",
     "output_type": "stream",
     "text": [
      "[('domingo', 20), ('lunes', 23), ('martes', 23), ('sábado', 24), ('viernes', 25), ('miércoles', 28), ('jueves', 29)]\n"
     ]
    }
   ],
   "source": [
    "dias = [\"lunes\", \"martes\", \"miércoles\", \"jueves\", \"viernes\", \"sábado\", \"domingo\"]\n",
    "dias_temps = zip(dias, temperaturas)\n",
    "# lambda x:x[1] define la función \"dada x, devolver x[1]\"\n",
    "print(sorted(dias_temps, key=lambda x: x[1]))"
   ]
  },
  {
   "cell_type": "markdown",
   "metadata": {},
   "source": [
    "---\n",
    "Las secuencias son objetos y, como tales, tienen métodos que permiten realizar ciertas operaciones de consulta. Dos de ellos son **count** e **index**, que permiten, respectivamente, contar el número de elementos de las secuencias y, determinar el índice de la primera ocurrencia de un determinado valor. Estas operaciones se pueden aplicar a cualquier tipo de secuencia: "
   ]
  },
  {
   "cell_type": "code",
   "execution_count": 50,
   "metadata": {
    "collapsed": false
   },
   "outputs": [
    {
     "name": "stdout",
     "output_type": "stream",
     "text": [
      "3\n",
      "2\n",
      "3\n",
      "1\n",
      "el total de caracteres en texto es de: 59\n",
      "Apariciones de la letra a: 6\n"
     ]
    }
   ],
   "source": [
    "# Sobre listas\n",
    "estados = [\"nublado\", \"nublado\", \"soleado\", \"soleado\", (\"soleado\",\"ventoso\"), \"nublado\", (\"lluvioso\", \"ventoso\")]\n",
    "print(estados.count(\"nublado\"))\n",
    "print(estados.index(\"soleado\"))\n",
    "\n",
    "# Sobre tuplas\n",
    "print((0, 1, 2, 2, 1, 1).count(1))\n",
    "print((0, 1, 2, 2, 1, 1).index(1))\n",
    "\n",
    "# Sobre cadenas\n",
    "texto = \"En un lugar de la Mancha de cuyo nombre no quiero acordarme\"\n",
    "print(\"el total de caracteres en texto es de:\", len(texto))\n",
    "print(\"Apariciones de la letra a:\", texto.count('a'))"
   ]
  },
  {
   "cell_type": "markdown",
   "metadata": {},
   "source": [
    "### ¡Prueba tú!"
   ]
  },
  {
   "cell_type": "code",
   "execution_count": 57,
   "metadata": {
    "collapsed": true
   },
   "outputs": [
    {
     "name": "stdout",
     "output_type": "stream",
     "text": [
      "[(1, 'lunes'), (8, 'lunes'), (15, 'lunes'), (22, 'lunes'), (29, 'lunes'), (36, 'lunes'), (43, 'lunes'), (50, 'lunes'), (57, 'lunes'), (64, 'lunes'), (71, 'lunes'), (78, 'lunes'), (85, 'lunes'), (92, 'lunes'), (99, 'lunes'), (106, 'lunes'), (113, 'lunes'), (120, 'lunes'), (127, 'lunes'), (134, 'lunes'), (141, 'lunes'), (148, 'lunes'), (155, 'lunes'), (162, 'lunes'), (169, 'lunes'), (176, 'lunes'), (183, 'lunes'), (190, 'lunes'), (197, 'lunes'), (204, 'lunes'), (211, 'lunes'), (218, 'lunes'), (225, 'lunes'), (232, 'lunes'), (239, 'lunes'), (246, 'lunes'), (253, 'lunes'), (260, 'lunes'), (267, 'lunes'), (274, 'lunes'), (281, 'lunes'), (288, 'lunes'), (295, 'lunes'), (302, 'lunes'), (309, 'lunes'), (316, 'lunes'), (323, 'lunes'), (330, 'lunes'), (337, 'lunes'), (344, 'lunes'), (351, 'lunes'), (358, 'lunes'), (365, 'lunes'), (2, 'martes'), (9, 'martes'), (16, 'martes'), (23, 'martes'), (30, 'martes'), (37, 'martes'), (44, 'martes'), (51, 'martes'), (58, 'martes'), (65, 'martes'), (72, 'martes'), (79, 'martes'), (86, 'martes'), (93, 'martes'), (100, 'martes'), (107, 'martes'), (114, 'martes'), (121, 'martes'), (128, 'martes'), (135, 'martes'), (142, 'martes'), (149, 'martes'), (156, 'martes'), (163, 'martes'), (170, 'martes'), (177, 'martes'), (184, 'martes'), (191, 'martes'), (198, 'martes'), (205, 'martes'), (212, 'martes'), (219, 'martes'), (226, 'martes'), (233, 'martes'), (240, 'martes'), (247, 'martes'), (254, 'martes'), (261, 'martes'), (268, 'martes'), (275, 'martes'), (282, 'martes'), (289, 'martes'), (296, 'martes'), (303, 'martes'), (310, 'martes'), (317, 'martes'), (324, 'martes'), (331, 'martes'), (338, 'martes'), (345, 'martes'), (352, 'martes'), (359, 'martes'), (3, 'miercoles'), (10, 'miercoles'), (17, 'miercoles'), (24, 'miercoles'), (31, 'miercoles'), (38, 'miercoles'), (45, 'miercoles'), (52, 'miercoles'), (59, 'miercoles'), (66, 'miercoles'), (73, 'miercoles'), (80, 'miercoles'), (87, 'miercoles'), (94, 'miercoles'), (101, 'miercoles'), (108, 'miercoles'), (115, 'miercoles'), (122, 'miercoles'), (129, 'miercoles'), (136, 'miercoles'), (143, 'miercoles'), (150, 'miercoles'), (157, 'miercoles'), (164, 'miercoles'), (171, 'miercoles'), (178, 'miercoles'), (185, 'miercoles'), (192, 'miercoles'), (199, 'miercoles'), (206, 'miercoles'), (213, 'miercoles'), (220, 'miercoles'), (227, 'miercoles'), (234, 'miercoles'), (241, 'miercoles'), (248, 'miercoles'), (255, 'miercoles'), (262, 'miercoles'), (269, 'miercoles'), (276, 'miercoles'), (283, 'miercoles'), (290, 'miercoles'), (297, 'miercoles'), (304, 'miercoles'), (311, 'miercoles'), (318, 'miercoles'), (325, 'miercoles'), (332, 'miercoles'), (339, 'miercoles'), (346, 'miercoles'), (353, 'miercoles'), (360, 'miercoles'), (4, 'jueves'), (11, 'jueves'), (18, 'jueves'), (25, 'jueves'), (32, 'jueves'), (39, 'jueves'), (46, 'jueves'), (53, 'jueves'), (60, 'jueves'), (67, 'jueves'), (74, 'jueves'), (81, 'jueves'), (88, 'jueves'), (95, 'jueves'), (102, 'jueves'), (109, 'jueves'), (116, 'jueves'), (123, 'jueves'), (130, 'jueves'), (137, 'jueves'), (144, 'jueves'), (151, 'jueves'), (158, 'jueves'), (165, 'jueves'), (172, 'jueves'), (179, 'jueves'), (186, 'jueves'), (193, 'jueves'), (200, 'jueves'), (207, 'jueves'), (214, 'jueves'), (221, 'jueves'), (228, 'jueves'), (235, 'jueves'), (242, 'jueves'), (249, 'jueves'), (256, 'jueves'), (263, 'jueves'), (270, 'jueves'), (277, 'jueves'), (284, 'jueves'), (291, 'jueves'), (298, 'jueves'), (305, 'jueves'), (312, 'jueves'), (319, 'jueves'), (326, 'jueves'), (333, 'jueves'), (340, 'jueves'), (347, 'jueves'), (354, 'jueves'), (361, 'jueves'), (5, 'viernes'), (12, 'viernes'), (19, 'viernes'), (26, 'viernes'), (33, 'viernes'), (40, 'viernes'), (47, 'viernes'), (54, 'viernes'), (61, 'viernes'), (68, 'viernes'), (75, 'viernes'), (82, 'viernes'), (89, 'viernes'), (96, 'viernes'), (103, 'viernes'), (110, 'viernes'), (117, 'viernes'), (124, 'viernes'), (131, 'viernes'), (138, 'viernes'), (145, 'viernes'), (152, 'viernes'), (159, 'viernes'), (166, 'viernes'), (173, 'viernes'), (180, 'viernes'), (187, 'viernes'), (194, 'viernes'), (201, 'viernes'), (208, 'viernes'), (215, 'viernes'), (222, 'viernes'), (229, 'viernes'), (236, 'viernes'), (243, 'viernes'), (250, 'viernes'), (257, 'viernes'), (264, 'viernes'), (271, 'viernes'), (278, 'viernes'), (285, 'viernes'), (292, 'viernes'), (299, 'viernes'), (306, 'viernes'), (313, 'viernes'), (320, 'viernes'), (327, 'viernes'), (334, 'viernes'), (341, 'viernes'), (348, 'viernes'), (355, 'viernes'), (362, 'viernes'), (6, 'sábado'), (13, 'sábado'), (20, 'sábado'), (27, 'sábado'), (34, 'sábado'), (41, 'sábado'), (48, 'sábado'), (55, 'sábado'), (62, 'sábado'), (69, 'sábado'), (76, 'sábado'), (83, 'sábado'), (90, 'sábado'), (97, 'sábado'), (104, 'sábado'), (111, 'sábado'), (118, 'sábado'), (125, 'sábado'), (132, 'sábado'), (139, 'sábado'), (146, 'sábado'), (153, 'sábado'), (160, 'sábado'), (167, 'sábado'), (174, 'sábado'), (181, 'sábado'), (188, 'sábado'), (195, 'sábado'), (202, 'sábado'), (209, 'sábado'), (216, 'sábado'), (223, 'sábado'), (230, 'sábado'), (237, 'sábado'), (244, 'sábado'), (251, 'sábado'), (258, 'sábado'), (265, 'sábado'), (272, 'sábado'), (279, 'sábado'), (286, 'sábado'), (293, 'sábado'), (300, 'sábado'), (307, 'sábado'), (314, 'sábado'), (321, 'sábado'), (328, 'sábado'), (335, 'sábado'), (342, 'sábado'), (349, 'sábado'), (356, 'sábado'), (363, 'sábado'), (7, 'domingo'), (14, 'domingo'), (21, 'domingo'), (28, 'domingo'), (35, 'domingo'), (42, 'domingo'), (49, 'domingo'), (56, 'domingo'), (63, 'domingo'), (70, 'domingo'), (77, 'domingo'), (84, 'domingo'), (91, 'domingo'), (98, 'domingo'), (105, 'domingo'), (112, 'domingo'), (119, 'domingo'), (126, 'domingo'), (133, 'domingo'), (140, 'domingo'), (147, 'domingo'), (154, 'domingo'), (161, 'domingo'), (168, 'domingo'), (175, 'domingo'), (182, 'domingo'), (189, 'domingo'), (196, 'domingo'), (203, 'domingo'), (210, 'domingo'), (217, 'domingo'), (224, 'domingo'), (231, 'domingo'), (238, 'domingo'), (245, 'domingo'), (252, 'domingo'), (259, 'domingo'), (266, 'domingo'), (273, 'domingo'), (280, 'domingo'), (287, 'domingo'), (294, 'domingo'), (301, 'domingo'), (308, 'domingo'), (315, 'domingo'), (322, 'domingo'), (329, 'domingo'), (336, 'domingo'), (343, 'domingo'), (350, 'domingo'), (357, 'domingo'), (364, 'domingo')]\n",
      "[(299, 'viernes'), (306, 'viernes'), (313, 'viernes'), (320, 'viernes'), (327, 'viernes'), (334, 'viernes'), (341, 'viernes'), (348, 'viernes'), (355, 'viernes'), (362, 'viernes')]\n"
     ]
    }
   ],
   "source": [
    "# Ordena la lista 'dias_nombres' por el día de la semana\n",
    "dias_orden = {dia: i for i, dia in enumerate(nombres)}\n",
    "sorted_dias_nombres = sorted(dias_nombres, key=lambda x: dias_orden[x[1]])\n",
    "print(sorted_dias_nombres)\n",
    "# Obtén a partir de la lista anterior las tuplas correspondientes a los 10 últimos viernes\n",
    "sorted_dias_nombres = sorted(dias_nombres, key=lambda x: x[1])\n",
    "print(sorted_dias_nombres[-10:])"
   ]
  },
  {
   "cell_type": "markdown",
   "metadata": {},
   "source": [
    "### ¡Prueba tú!"
   ]
  },
  {
   "cell_type": "code",
   "execution_count": null,
   "metadata": {
    "collapsed": true
   },
   "outputs": [],
   "source": [
    "# Cambia la lista 'dias_nombres' para que los nombres de los días 1 y 6 pasen a ser 'lunes-festivo' y 'sábado-festivo'\n"
   ]
  },
  {
   "cell_type": "markdown",
   "metadata": {},
   "source": [
    "## 2. Listas <a id=\"sec_listas\"/>"
   ]
  },
  {
   "cell_type": "markdown",
   "metadata": {},
   "source": [
    "En muchas ocasiones tenemos varios datos que están relacionados entre sí. Las listas nos permiten almacenar todos esos datos en una misma variable, gracias a lo cual podemos realizar operaciones con todos los datos a la vez y no de uno en uno.\n",
    "\n",
    "Piensa por ejemplo en las temperaturas previstas para los próximos siete días, los nombres de  las capitales europeas o las edades de tus amigos. Si almacenas esos datos una lista, podrás acceder a cada uno de ellos por separado (la temperatura del próximo miércoles, por ejemplo), o realizar operaciones con todos a la vez (por ejemplo, saber cuál es la capital europea que tiene un nombre más largo)."
   ]
  },
  {
   "cell_type": "markdown",
   "metadata": {},
   "source": [
    "### 2.1 Creación de una lista <a id=\"sec_creacion\">"
   ]
  },
  {
   "cell_type": "markdown",
   "metadata": {
    "collapsed": true
   },
   "source": [
    "Para crear una lista escribimos su nombre y le asignamos un valor, que es una secuencia de elementos separados por comas y encerrados entre corchetes. Si solo ponemos los corchetes, estaremos creando una lista vacía, que más tarde podremos rellenar. También podemos crear una lista vacía invocando a la función ``list()``."
   ]
  },
  {
   "cell_type": "code",
   "execution_count": null,
   "metadata": {
    "collapsed": true
   },
   "outputs": [],
   "source": [
    "# Una lista vacía:\n",
    "lista_vacia = []\n",
    "otra_lista_vacia = list()\n",
    "\n",
    "# Listas con elementos de distintos tipos:\n",
    "colores = [\"cyan\", \"magenta\", \"amarillo\"]\n",
    "temperaturas = [25.2, 24.9, 25.2, 26.7, 28.6, 29.5, 29.7]"
   ]
  },
  {
   "cell_type": "markdown",
   "metadata": {},
   "source": [
    "Observa que las listas pueden contener valores repetidos. Por ejemplo, el primer y el tercer elemento de la lista temperaturas tienen el mismo valor, aunque son dos elementos diferentes.\n",
    "\n",
    "También puedes ver que los elementos de una lista pueden ser de cualquier tipo. Incluso pueden ser tuplas, como en este otro ejemplo:"
   ]
  },
  {
   "cell_type": "code",
   "execution_count": null,
   "metadata": {
    "collapsed": true
   },
   "outputs": [],
   "source": [
    "frecuencia_caracteres = [(23, \"e\"), (7, \"s\"), (12, \"a\")]"
   ]
  },
  {
   "cell_type": "markdown",
   "metadata": {},
   "source": [
    "Podemos incluso crear listas con elementos de tipos diferentes, si bien no es algo muy frecuente:"
   ]
  },
  {
   "cell_type": "code",
   "execution_count": null,
   "metadata": {
    "collapsed": true
   },
   "outputs": [],
   "source": [
    "lista_mix = [\"Juan\", 23, 75.4]"
   ]
  },
  {
   "cell_type": "markdown",
   "metadata": {},
   "source": [
    "### ¡Prueba tú!\n",
    "Crea las siguientes listas:\n",
    "* Una lista con los nombres de tus amigos\n",
    "* Una lista con el nombre y la altura de 5 jugadores de baloncesto"
   ]
  },
  {
   "cell_type": "code",
   "execution_count": null,
   "metadata": {
    "collapsed": true
   },
   "outputs": [],
   "source": []
  },
  {
   "cell_type": "markdown",
   "metadata": {},
   "source": [
    "### 2.2 Acceso a una lista <a id=\"sec_acceso\">"
   ]
  },
  {
   "cell_type": "markdown",
   "metadata": {
    "collapsed": true
   },
   "source": [
    "Podemos acceder a una lista escribiendo su nombre. Por ejemplo, para mostrar en pantalla los valores de la lista _temperaturas_ haremos lo siguiente:"
   ]
  },
  {
   "cell_type": "code",
   "execution_count": null,
   "metadata": {
    "collapsed": false
   },
   "outputs": [],
   "source": [
    "print(temperaturas)"
   ]
  },
  {
   "cell_type": "markdown",
   "metadata": {},
   "source": [
    "Al igual que con cualquier secuencia, podemos acceder a un elemento concreto de la lista. Para ello hemos de indicar la posición que ocupa el elemento dentro de la lista, lo cual se hace de la siguiente forma: "
   ]
  },
  {
   "cell_type": "code",
   "execution_count": null,
   "metadata": {
    "collapsed": false
   },
   "outputs": [],
   "source": [
    "print(\"La temperatura del lunes es:\", temperaturas[0])"
   ]
  },
  {
   "cell_type": "markdown",
   "metadata": {},
   "source": [
    "Si la lista está formada por tuplas, al acceder a un elemento tendremos una tupla. Podemos a su vez acceder a un elemento de la tupla indicando su posición. Por ejemplo, si queremos acceder al primer carácter de la lista de tuplas frecuencia_caracteres, haríamos lo siguiente:"
   ]
  },
  {
   "cell_type": "code",
   "execution_count": null,
   "metadata": {
    "collapsed": false
   },
   "outputs": [],
   "source": [
    "# Accedemos a la tupla y después al carácter\n",
    "tupla = frecuencia_caracteres[0]\n",
    "primer_caracter = tupla[1]\n",
    "print(primer_caracter)\n",
    "\n",
    "# O bien, accedemos directamente al carácter:\n",
    "primer_caracter = frecuencia_caracteres[0][1]\n",
    "print(primer_caracter)"
   ]
  },
  {
   "cell_type": "markdown",
   "metadata": {},
   "source": [
    "En las listas, podemos utilizar el acceso a una posición para cambiar un elemento de la misma, o incluso un trozo de la lista, si usamos *slicing*:"
   ]
  },
  {
   "cell_type": "code",
   "execution_count": null,
   "metadata": {
    "collapsed": false
   },
   "outputs": [],
   "source": [
    "# Modificación de una posición\n",
    "temperaturas[3] = 12.0\n",
    "print(temperaturas)\n",
    "\n",
    "# Modificación de un grupo de posiciones\n",
    "temperaturas[0:3] = [-1, -1, -1]\n",
    "print(temperaturas)"
   ]
  },
  {
   "cell_type": "markdown",
   "metadata": {},
   "source": [
    "### 2.3 Otras operaciones con listas <a id=\"sec_otras\">"
   ]
  },
  {
   "cell_type": "markdown",
   "metadata": {
    "collapsed": true
   },
   "source": [
    "Veamos algunas operaciones básicas específicas de las listas. Ten en cuenta que, además de todas estas operaciones, con las listas podemos utilizar el resto de operaciones comunes a todas las secuencias, explicadas en la sección anterior."
   ]
  },
  {
   "cell_type": "markdown",
   "metadata": {},
   "source": [
    "Para añadir un elemento a una lista utilizamos el método **append**. El elemento se añade al final de la lista. Fíjate en su funcionamiento ejecutando el código siguiente y observando cómo cambia la lista:"
   ]
  },
  {
   "cell_type": "code",
   "execution_count": null,
   "metadata": {
    "collapsed": false
   },
   "outputs": [],
   "source": [
    "print(colores)\n",
    "colores.append(\"negro\")\n",
    "print(colores)"
   ]
  },
  {
   "cell_type": "markdown",
   "metadata": {},
   "source": [
    "Si queremos añadir un elemento en una posición distinta al final, podemos hacerlo mediante el método **insert**, indicando la posición donde queremos añadir elemento como primer parámetro del método:"
   ]
  },
  {
   "cell_type": "code",
   "execution_count": null,
   "metadata": {
    "collapsed": false
   },
   "outputs": [],
   "source": [
    "colores.insert(0, \"rojo\")\n",
    "print(colores)\n",
    "\n",
    "colores.insert(1, \"verde\")\n",
    "print(colores)"
   ]
  },
  {
   "cell_type": "markdown",
   "metadata": {},
   "source": [
    "---\n",
    "La operación contraria a la anterior es la de eliminar un elemento de una lista. Para hacerlo utilizamos la función **del**, a la cual hemos de pasar como parámetro la posición que ocupa en la lista el elemento que queremos eliminar. Observa su funcionamiento en el siguiente ejemplo:"
   ]
  },
  {
   "cell_type": "code",
   "execution_count": null,
   "metadata": {
    "collapsed": false
   },
   "outputs": [],
   "source": [
    "print(temperaturas)\n",
    "del(temperaturas[2])\n",
    "print(temperaturas)"
   ]
  },
  {
   "cell_type": "markdown",
   "metadata": {},
   "source": [
    "Observa cómo se elimina el tercer elemento de la lista, el que ocupa la posición 2. Fíjate que el primer elemento permanece, aunque su valor sea el mismo que el que hemos eliminado. Solo se elimina el que ocupa la posición indicada. Lógicamente, los elementos que le siguen ven modificada su posición: el elemento 3 pasa a ser ahora el 2, el 4 pasa a ser el 3, y así sucesivamente.\n",
    "\n",
    "También podemos eliminar todos los elementos de la lista mediante el método **clear**:"
   ]
  },
  {
   "cell_type": "code",
   "execution_count": null,
   "metadata": {
    "collapsed": false
   },
   "outputs": [],
   "source": [
    "temperaturas.clear()\n",
    "print(temperaturas)"
   ]
  },
  {
   "cell_type": "markdown",
   "metadata": {},
   "source": [
    "---\n",
    "El método **sort** permite modificar el orden de los elementos de una lista, para que dicha lista quede ordenada. Esto también se podía conseguir con la función predefinida *sorted*, como vimos antes. La diferencia es que en este caso no se obtiene una nueva lista, sino que se altera la posición de los elementos que componen la lista."
   ]
  },
  {
   "cell_type": "code",
   "execution_count": null,
   "metadata": {
    "collapsed": false
   },
   "outputs": [],
   "source": [
    "temperaturas = [25.2, 24.9, 25.2, 26.7, 28.6, 29.5, 29.7]\n",
    "\n",
    "temperaturas.sort()\n",
    "print(temperaturas)"
   ]
  },
  {
   "cell_type": "markdown",
   "metadata": {},
   "source": [
    "El método *sort* dispone de los mismos parámetros opcionales de la función *sorted*, esto es:\n",
    "* El parámetro *reverse*, para indicar que queremos ordenar de mayor a menor.\n",
    "* El parámetro *key*, para indicar una función de comparación específica."
   ]
  },
  {
   "cell_type": "markdown",
   "metadata": {},
   "source": [
    "Además de sort, también tenemos el método **reverse**, que invierte la posición de los elementos de una lista:"
   ]
  },
  {
   "cell_type": "code",
   "execution_count": null,
   "metadata": {
    "collapsed": false
   },
   "outputs": [],
   "source": [
    "temperaturas.reverse()\n",
    "print(temperaturas)"
   ]
  },
  {
   "cell_type": "markdown",
   "metadata": {},
   "source": [
    "## 3. Definición de listas por comprensión <a id=\"sec_comprension_listas\"/>"
   ]
  },
  {
   "cell_type": "markdown",
   "metadata": {},
   "source": [
    "Python nos permite crear una lista por comprensión (en inglés, *comprehension*). Esto tiene mucha relación con la definición de conjuntos por comprensión de las matemáticas. Sea por ejemplo, en matemáticas esta expresión:\n",
    "$$ S = \\{x^2 |\\ x \\in [3, 7), x \\  impar\\}$$\n",
    "\n",
    "Esta expresión matemática se podría leer así: **Sea el conjunto S formado por el cuadrado de x para todas las x del intervale [3, 7) tales que x sea impar**. El conjunto del ejemplo contiene por tanto los valores 9 y 25. \n",
    "\n",
    "En Python, podemos obtener una lista con los elementos del conjunto anterior usando la definición por comprensión de listas de la siguiente forma:"
   ]
  },
  {
   "cell_type": "code",
   "execution_count": null,
   "metadata": {
    "collapsed": false
   },
   "outputs": [],
   "source": [
    "s = [x**2 for x in range(3, 7) if x % 2 == 1]\n",
    "print(s)"
   ]
  },
  {
   "cell_type": "markdown",
   "metadata": {},
   "source": [
    "Compara esta definición del conjunto en Python con la definición matemática anterior. En realidad, esta definición por comprensión es equivalente al siguiente código:"
   ]
  },
  {
   "cell_type": "code",
   "execution_count": null,
   "metadata": {},
   "outputs": [],
   "source": [
    "s = list()\n",
    "for x in range(3, 7):\n",
    "    if x % 2 == 1:\n",
    "        s.append(x**2)\n",
    "print(s)"
   ]
  },
  {
   "cell_type": "markdown",
   "metadata": {},
   "source": [
    "Generalizando lo anterior, si tenemos un trozo de código que construye una lista de esta forma:\n",
    "``` python\n",
    "nueva_lista = []\n",
    "for e in vieja_lista:\n",
    "    if filtro(e):\n",
    "        nueva_lista.append(transformacion(e))\n",
    "```\n",
    "Se puede escribir, usando comprensión, como:\n",
    "```python\n",
    "nueva_lista = [transformacion(e) for e in vieja_lista if filtro(e)]\n",
    "```\n",
    "Vamos a ver esto con un ejemplo. Supongamos la siguiente lista:"
   ]
  },
  {
   "cell_type": "code",
   "execution_count": null,
   "metadata": {},
   "outputs": [],
   "source": [
    "edades = [32, 11, 14, 25, 41, 8, 33, 58, 2, 67]"
   ]
  },
  {
   "cell_type": "markdown",
   "metadata": {},
   "source": [
    "Podemos obtener una nueva lista `mayores_edad` con los valores que sean mayores o iguales que 18. Escribiríamos:"
   ]
  },
  {
   "cell_type": "code",
   "execution_count": null,
   "metadata": {
    "collapsed": false
   },
   "outputs": [],
   "source": [
    "print(edades)\n",
    "mayores_edad = [e for e in edades if e >= 18]\n",
    "print(mayores_edad)"
   ]
  },
  {
   "cell_type": "markdown",
   "metadata": {},
   "source": [
    "### ¡Prueba tú!\n",
    "Prueba a definir una lista temperaturas_menores, a partir de la lista temperaturas, con las temperaturas menores que 27 grados."
   ]
  },
  {
   "cell_type": "code",
   "execution_count": null,
   "metadata": {
    "collapsed": true
   },
   "outputs": [],
   "source": []
  },
  {
   "cell_type": "markdown",
   "metadata": {},
   "source": [
    "La definición de listas por comprensión es muy cómoda, compacta y expresiva. No obstante, no debemos abusar de ella; si la expresión que escribimos es muy compleja se puede volver muy difícil de leer. En ese caso sería preferible la definición \"clásica\" o \"imperativa\" de la lista, como hemos hecho hasta ahora."
   ]
  },
  {
   "cell_type": "markdown",
   "metadata": {},
   "source": [
    "### 3.1. Generadores por comprensión <a id=\"sec_generadores\"/>"
   ]
  },
  {
   "cell_type": "markdown",
   "metadata": {},
   "source": [
    "Si utilizamos la misma sintaxis de la definición de listas por comprensión pero obviando los corchetes de inicio y fin, diremos que tenemos un generador por comprensión. Sin entrar en muchos detalles, un generador por comprensión define una manera de obtener una secuencia, pero sin almacenar cada uno de esos elementos en la memoria del ordenador (como sí ocurría al definir una lista por comprensión). La utilidad de estos generadores es que podemos usarlos en cualquier sitio donde usaríamos una estructura de datos iterable (por ejemplo, una lista). \n",
    "\n",
    "Observa este ejemplo:"
   ]
  },
  {
   "cell_type": "code",
   "execution_count": null,
   "metadata": {},
   "outputs": [],
   "source": [
    "def suma_numeros(lista):\n",
    "    suma = 0\n",
    "    for e in lista:\n",
    "        suma += e\n",
    "    return suma\n",
    "\n",
    "\n",
    "numeros = [12, 14, 15, 23, 76, 54, 32, 81]\n",
    "print(\"Suma de los numeros:\",\n",
    "       suma_numeros(numeros)\n",
    "       )\n",
    "\n",
    "numeros_pares = [n for n in numeros if n % 2 == 0]\n",
    "print(\"Suma de los numeros pares:\", \n",
    "      suma_numeros(numeros_pares)\n",
    "      )"
   ]
  },
  {
   "cell_type": "markdown",
   "metadata": {},
   "source": [
    "Para poder usar la función ``suma_numeros`` para calcular la suma de los números de la lista ``numeros`` que sean pares, hemos creado una lista intermedia ``numeros_pares``. Le pasamos esta nueva lista a la función y obtenemos la suma de los números pares de la lista ``numeros``. \n",
    "\n",
    "Pero, ¿es necesario crear una nueva lista con esos elementos pares? Usando un generador por comprensión, no lo es:"
   ]
  },
  {
   "cell_type": "code",
   "execution_count": null,
   "metadata": {},
   "outputs": [],
   "source": [
    "print(\"Suma de los numeros pares:\", \n",
    "      suma_numeros(n for n in numeros if n % 2 == 0)\n",
    "      )"
   ]
  },
  {
   "cell_type": "markdown",
   "metadata": {},
   "source": [
    "Aunque ambas soluciones obtienen el mismo resultado, la ventaja principal de esta última es que no se está creando una segunda lista en memoria con los números pares. Es, por tanto, una solución más eficiente.\n",
    "\n",
    "Por supuesto, no es necesario definir ninguna función ``suma_numeros`` para resolver el problema anterior. Podemos usar la función predefinida ``sum()``:"
   ]
  },
  {
   "cell_type": "code",
   "execution_count": null,
   "metadata": {},
   "outputs": [],
   "source": [
    "print(\"Suma de los numeros pares:\", \n",
    "      sum(n for n in numeros if n % 2 == 0)\n",
    "      )"
   ]
  },
  {
   "cell_type": "markdown",
   "metadata": {},
   "source": [
    "Podemos usar los generadores por comprensión como parámetro de cualquier función que realice cálculos sobre secuencias:"
   ]
  },
  {
   "cell_type": "code",
   "execution_count": null,
   "metadata": {},
   "outputs": [],
   "source": [
    "print(\"Números de la lista mayores a 30, ordenados de menor a mayor:\",\n",
    "      sorted(n for n in numeros if n > 30)\n",
    "      )"
   ]
  },
  {
   "cell_type": "markdown",
   "metadata": {},
   "source": [
    "## 4. Tuplas  <a id=\"sec_tuplas\"/>"
   ]
  },
  {
   "cell_type": "markdown",
   "metadata": {},
   "source": [
    "Una tupla es un tipo de secuencia similiar a las listas pero que es inmutable. Esto quiere decir que, una vez creada, no podemos añadir, eliminar ni modificar elementos.  \n",
    "\n",
    "Así como las listas se pueden definir por sus elementos colocados entre corchetes y separados por comas, las tuplas se pueden definir por sus elementos colocados entre paréntesis y separados también por comas:"
   ]
  },
  {
   "cell_type": "code",
   "execution_count": null,
   "metadata": {
    "collapsed": false
   },
   "outputs": [],
   "source": [
    "t = (1, 2, 3)\n",
    "\n",
    "t = 4, 5, 6   # En algunos casos, los paréntesis son opcionales...\n",
    "\n",
    "lista_tuplas = [(1,2), (3,4), (5,6)] # ... salvo que las tuplas sean elementos de otras secuencias...\n",
    "lista_tuplas.append((7,8)) # ... o le pasemos una tupla como parámetro a una función\n",
    "\n",
    "t = (1)  # Esto NO es una tupla de un elemento\n",
    "print(type(t))\n",
    "\n",
    "t = (1,) # Hay que añadir una coma al final para definir tuplas de un solo elemento\n",
    "print(type(t))"
   ]
  },
  {
   "cell_type": "markdown",
   "metadata": {},
   "source": [
    "Podemos construir tuplas a partir de otras secuencias usando la función predefinida **tuple**:"
   ]
  },
  {
   "cell_type": "code",
   "execution_count": null,
   "metadata": {
    "collapsed": false
   },
   "outputs": [],
   "source": [
    "tupla_pares_menores_20 = tuple(edades)\n",
    "print(tupla_pares_menores_20)"
   ]
  },
  {
   "cell_type": "markdown",
   "metadata": {},
   "source": [
    "---\n",
    "Las tuplas, a diferencia de las listas, sí suelen usarse con elementos no homogéneos; pueden usarse, por ejemplo, para modelar diferentes características de un objeto. Por ejemplo, podemos definir las tuplas"
   ]
  },
  {
   "cell_type": "code",
   "execution_count": null,
   "metadata": {
    "collapsed": false,
    "scrolled": true
   },
   "outputs": [],
   "source": [
    "persona1 = \"John\", \"Doe\", \"varón\", 23, 1.83, 87.3\n",
    "persona2 = (\"Jane\", \"Doe\", \"mujer\", 25, 1.62, 64.0)\n",
    "print(persona1, persona2)"
   ]
  },
  {
   "cell_type": "markdown",
   "metadata": {},
   "source": [
    "Podemos referenciar cada uno de los elementos de una tupla mediante una variable (aplicando **unpacking**) y tratarlos posteriormente como variables independientes:"
   ]
  },
  {
   "cell_type": "code",
   "execution_count": null,
   "metadata": {
    "collapsed": false
   },
   "outputs": [],
   "source": [
    "nombre, apellidos, sexo, edad, estatura, peso = persona1\n",
    "print(nombre, apellidos)\n",
    "edad += 1\n",
    "print(edad)\n",
    "print(persona1)"
   ]
  },
  {
   "cell_type": "markdown",
   "metadata": {},
   "source": [
    "Las tuplas se usan frecuentemente para devolver varios valores en una función. Por ejemplo:"
   ]
  },
  {
   "cell_type": "code",
   "execution_count": null,
   "metadata": {
    "collapsed": false
   },
   "outputs": [],
   "source": [
    "def devuelve_dos_mayores(lista):\n",
    "    mayor = max(lista)\n",
    "    lista.remove(mayor)\n",
    "    segundo_mayor = max(lista)\n",
    "    return mayor, segundo_mayor\n",
    "\n",
    "mayores = devuelve_dos_mayores([6, 2, 54, 1, 653, 32, 53])\n",
    "print(mayores)"
   ]
  },
  {
   "cell_type": "markdown",
   "metadata": {},
   "source": [
    "Y se suele combinar con el _unpacking_, como vimos antes:"
   ]
  },
  {
   "cell_type": "code",
   "execution_count": null,
   "metadata": {},
   "outputs": [],
   "source": [
    "mayor1, mayor2 = devuelve_dos_mayores([6, 2, 54, 1, 653, 32, 53])\n",
    "print(mayor1, mayor2)"
   ]
  },
  {
   "cell_type": "markdown",
   "metadata": {},
   "source": [
    "### ¡Prueba tú!\n",
    "Escribe una función `calcula_estadisticos` que reciba una secuencia de números y devuelva el máximo, el mínimo y la media."
   ]
  },
  {
   "cell_type": "code",
   "execution_count": null,
   "metadata": {
    "collapsed": true
   },
   "outputs": [],
   "source": []
  },
  {
   "cell_type": "markdown",
   "metadata": {},
   "source": [
    "### 3.1 Tuplas con nombre <a id=\"sec_namedtuple\">"
   ]
  },
  {
   "cell_type": "markdown",
   "metadata": {},
   "source": [
    "El uso de tuplas para representar a una entidad mediante una serie de campos de datos es habitual y práctico, pero el uso del operador de acceso habitual de las secuencias (es decir, el uso de corchetes e índices) a veces puede comprometer la legibilidad del código, y por tanto, su mantenimiento. Y, además, son frecuentes los errores, por ejemplo al usar un índice que no se corresponda con el campo al que queremos acceder.\n",
    "\n",
    "Una solución elegante es la utilización del tipo ```namedtuple```. Para ello, lo primero que hacemos es crearnos un tipo tupla personalizado, poniendo un nombre tanto al tipo de tupla que estamos creando como a cada uno de los campos:"
   ]
  },
  {
   "cell_type": "code",
   "execution_count": null,
   "metadata": {
    "collapsed": true
   },
   "outputs": [],
   "source": [
    "from collections import namedtuple\n",
    "\n",
    "Persona = namedtuple(\"Persona\", \"nombre, apellidos, sexo, edad, altura, peso\")\n",
    "# Otra opción es pasar los nombres de los campos como una lista:\n",
    "# Persona = namedtuple(\"Persona\", [\"nombre\", \"apellidos\", \"sexo\", \"edad\", \"altura\", \"peso\"])"
   ]
  },
  {
   "cell_type": "markdown",
   "metadata": {},
   "source": [
    "La llamada a ``namedtuple`` nos devuelve una función de construcción de tuplas. Usando esta función (que hemos almacenado en el ejemplo anterior en la variable ``Persona``), podemos crear tuplas con los campos que hemos especificado anteriormente:"
   ]
  },
  {
   "cell_type": "code",
   "execution_count": null,
   "metadata": {
    "collapsed": true
   },
   "outputs": [],
   "source": [
    "persona1 = Persona(\"John\", \"Doe\", \"varón\", 23, 1.83, 87.3)\n",
    "print(persona1)"
   ]
  },
  {
   "cell_type": "markdown",
   "metadata": {},
   "source": [
    "Una vez hecho esto, podemos acceder a los campos indicando sus nombres, de esta forma:"
   ]
  },
  {
   "cell_type": "code",
   "execution_count": null,
   "metadata": {
    "collapsed": true
   },
   "outputs": [],
   "source": [
    "print(\"Nombre y apellidos:\", persona1.nombre, persona1.apellidos)\n",
    "print(\"Edad:\", persona1.edad)\n",
    "print(\"Sexo:\", persona1.sexo)\n",
    "\n",
    "# Se pueden seguir usando los índices para acceder a los elementos,\n",
    "# aunque no es lo recomendable\n",
    "print(\"Altura:\", persona1[4])"
   ]
  },
  {
   "cell_type": "markdown",
   "metadata": {},
   "source": [
    "Si queremos especificar el tipo de cada una de las columnas, podemos utilizar ``NamedTuple``, de la siguiente manera:"
   ]
  },
  {
   "cell_type": "code",
   "execution_count": null,
   "metadata": {},
   "outputs": [],
   "source": [
    "from typing import NamedTuple\n",
    "\n",
    "Persona = NamedTuple(\"Persona\", [(\"nombre\", str), (\"apellidos\", str), (\"sexo\", str), (\"edad\", int), (\"altura\", float), (\"peso\", float)])"
   ]
  },
  {
   "cell_type": "markdown",
   "metadata": {},
   "source": [
    "La especificación de los tipos da más información sobre el uso de las tuplas, por lo que mejora la documentación de nuestros programas. Además, permitirá que el entorno de desarrollo nos proporcione más información cuando estemos programando, por ejemplo, mostrándonos los métodos adecuados cuando accedamos a determinado campo."
   ]
  }
 ],
 "metadata": {
  "anaconda-cloud": {},
  "kernelspec": {
   "display_name": "Python 3",
   "language": "python",
   "name": "python3"
  },
  "language_info": {
   "codemirror_mode": {
    "name": "ipython",
    "version": 3
   },
   "file_extension": ".py",
   "mimetype": "text/x-python",
   "name": "python",
   "nbconvert_exporter": "python",
   "pygments_lexer": "ipython3",
   "version": "3.12.5"
  }
 },
 "nbformat": 4,
 "nbformat_minor": 2
}
